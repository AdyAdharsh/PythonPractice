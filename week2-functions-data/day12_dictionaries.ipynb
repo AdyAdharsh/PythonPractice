{
 "cells": [
  {
   "cell_type": "markdown",
   "id": "d180127f",
   "metadata": {},
   "source": [
    "# Day12 Dictionaries\n",
    "\n",
    "🗓️ Date:\n",
    "\n",
    "---\n",
    "## 🎯 Learning Objectives\n",
    "- \n",
    "- \n",
    "\n",
    "## 🧠 Notes\n",
    "\n",
    "\n",
    "## 💻 Practice Code\n",
    "\n",
    "\n",
    "## ✅ Summary\n",
    "\n"
   ]
  }
 ],
 "metadata": {},
 "nbformat": 4,
 "nbformat_minor": 5
}
