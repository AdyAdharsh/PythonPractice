{
 "cells": [
  {
   "cell_type": "markdown",
   "id": "3e5292b7",
   "metadata": {},
   "source": [
    "# Day7 While Loop\n",
    "\n",
    "🗓️ Date:\n",
    "\n",
    "---\n",
    "## 🎯 Learning Objectives\n",
    "- \n",
    "- \n",
    "\n",
    "## 🧠 Notes\n",
    "\n",
    "\n",
    "## 💻 Practice Code\n",
    "\n",
    "\n",
    "## ✅ Summary\n",
    "\n"
   ]
  }
 ],
 "metadata": {},
 "nbformat": 4,
 "nbformat_minor": 5
}
