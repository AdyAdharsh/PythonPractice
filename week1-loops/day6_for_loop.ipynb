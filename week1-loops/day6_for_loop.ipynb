{
 "cells": [
  {
   "cell_type": "markdown",
   "id": "632f49b0",
   "metadata": {},
   "source": [
    "# Day6 For Loop\n",
    "\n",
    "🗓️ Date:\n",
    "\n",
    "---\n",
    "## 🎯 Learning Objectives\n",
    "- \n",
    "- \n",
    "\n",
    "## 🧠 Notes\n",
    "\n",
    "\n",
    "## 💻 Practice Code\n",
    "\n",
    "\n",
    "## ✅ Summary\n",
    "\n"
   ]
  }
 ],
 "metadata": {},
 "nbformat": 4,
 "nbformat_minor": 5
}
