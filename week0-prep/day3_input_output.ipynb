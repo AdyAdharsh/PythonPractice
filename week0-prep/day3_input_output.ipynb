{
 "cells": [
  {
   "cell_type": "markdown",
   "id": "3eeedbdf",
   "metadata": {},
   "source": [
    "# Day3 Input Output\n",
    "\n",
    "🗓️ Date:\n",
    "\n",
    "---\n",
    "## 🎯 Learning Objectives\n",
    "- \n",
    "- \n",
    "\n",
    "## 🧠 Notes\n",
    "\n",
    "\n",
    "## 💻 Practice Code\n",
    "\n",
    "\n",
    "## ✅ Summary\n",
    "\n"
   ]
  }
 ],
 "metadata": {},
 "nbformat": 4,
 "nbformat_minor": 5
}
