{
 "cells": [
  {
   "cell_type": "markdown",
   "id": "18aacdc2",
   "metadata": {},
   "source": [
    "# Day17 Project Quiz\n",
    "\n",
    "🗓️ Date:\n",
    "\n",
    "---\n",
    "## 🎯 Learning Objectives\n",
    "- \n",
    "- \n",
    "\n",
    "## 🧠 Notes\n",
    "\n",
    "\n",
    "## 💻 Practice Code\n",
    "\n",
    "\n",
    "## ✅ Summary\n",
    "\n"
   ]
  }
 ],
 "metadata": {},
 "nbformat": 4,
 "nbformat_minor": 5
}
