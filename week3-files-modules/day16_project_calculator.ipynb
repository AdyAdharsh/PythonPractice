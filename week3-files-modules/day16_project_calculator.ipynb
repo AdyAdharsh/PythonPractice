{
 "cells": [
  {
   "cell_type": "markdown",
   "id": "499e2b0c",
   "metadata": {},
   "source": [
    "# Day16 Project Calculator\n",
    "\n",
    "🗓️ Date:\n",
    "\n",
    "---\n",
    "## 🎯 Learning Objectives\n",
    "- \n",
    "- \n",
    "\n",
    "## 🧠 Notes\n",
    "\n",
    "\n",
    "## 💻 Practice Code\n",
    "\n",
    "\n",
    "## ✅ Summary\n",
    "\n"
   ]
  }
 ],
 "metadata": {},
 "nbformat": 4,
 "nbformat_minor": 5
}
